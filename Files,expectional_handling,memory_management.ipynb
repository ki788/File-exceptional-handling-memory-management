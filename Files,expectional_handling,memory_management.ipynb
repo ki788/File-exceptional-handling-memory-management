{
  "nbformat": 4,
  "nbformat_minor": 0,
  "metadata": {
    "colab": {
      "provenance": []
    },
    "kernelspec": {
      "name": "python3",
      "display_name": "Python 3"
    },
    "language_info": {
      "name": "python"
    }
  },
  "cells": [
    {
      "cell_type": "markdown",
      "source": [
        "THEORY"
      ],
      "metadata": {
        "id": "V06EqzzSpU4l"
      }
    },
    {
      "cell_type": "markdown",
      "source": [
        "1.What is the difference between interpreted and compiled languages?\n",
        "* Aspect\tInterpreted Languages\tCompiled Languages\n",
        "Execution\tCode is executed line-by-line by an interpreter.\tCode is translated into machine code before execution.\n",
        "Speed\tSlower, due to real-time interpretation.\tFaster, since code is precompiled.\n",
        "Error Detection\tErrors are caught during execution (runtime).\tErrors are caught at compile time.\n",
        "Portability\tMore portable (code can run on any system with interpreter).\tLess portable (needs to be compiled for each system).\n",
        "Examples\tPython, JavaScript, Ruby\tC, C++, Go:\n",
        "\n",
        "Compiled languages turn the whole program into machine code before running it.\n",
        "Interpreted languages run the code directly, translating it on the fly.\n"
      ],
      "metadata": {
        "id": "gRSUmsBUpfr1"
      }
    },
    {
      "cell_type": "markdown",
      "source": [
        "2. What is exception handling in Python?\n",
        "* Exception handling in Python is a way to manage errors that occur during program execution, without stopping the whole program.\n",
        "\n",
        " Key Keywords:\n",
        "try: Block of code to test for errors.\n",
        "except: Block of code to handle the error.\n",
        "else: Runs if no error occurs.\n",
        "finally: Runs no matter what (used for cleanup).\n"
      ],
      "metadata": {
        "id": "owwUu9o6p1dz"
      }
    },
    {
      "cell_type": "markdown",
      "source": [
        "3.What is the purpose of the finally block in exception handling?\n",
        "* Purpose of the finally block in exception handling:\n",
        "The finally block is used to define clean-up actions that must be executed whether an exception occurs or not.\n",
        "\n",
        " Key Points:\n",
        "It always runs, no matter if:\n",
        "\n",
        "An exception was raised.\n",
        "No exception occurred.\n",
        "An exception was caught or not.\n",
        "Commonly used for:\n",
        "\n",
        "Closing files\n",
        "Releasing resources (like database connections)\n",
        "Cleaning up temporary data\n"
      ],
      "metadata": {
        "id": "T00ZiG2oqJ_e"
      }
    },
    {
      "cell_type": "markdown",
      "source": [
        "4.What is logging in Python?\n",
        "\n",
        "* Logging is the process of recording events or messages from a program while it's running. It helps developers track the flow, debug issues, and monitor applications.\n",
        "\n",
        "To keep a record of events (e.g., errors, warnings, info).\n",
        "Better than print() for real-world applications.\n",
        "Allows setting log levels (info, debug, warning, etc.).\n"
      ],
      "metadata": {
        "id": "7tOzPyyDqZ3K"
      }
    },
    {
      "cell_type": "markdown",
      "source": [
        "5.What is the significance of the del method in Python?\n",
        "* The __del__ method is a destructor in Python. It is called automatically when an object is about to be destroyed (i.e., garbage collected).\n",
        "\n",
        "To release resources (e.g., closing files, releasing memory).\n",
        "To perform cleanup tasks before an object is removed from memory.\n"
      ],
      "metadata": {
        "id": "Hj0n5wpLqxpe"
      }
    },
    {
      "cell_type": "markdown",
      "source": [
        "6.What is the difference between import and from ... import in Python?\n",
        "* Aspect\timport\tfrom ... import\n",
        "Usage\tImports the whole module\tImports specific items from a module\n",
        "Syntax\timport math\tfrom math import sqrt\n",
        "Access\tUse module name to access functions/objects\tUse directly without module prefix\n",
        "Example\tmath.sqrt(16)\tsqrt(16)\n",
        "Memory\tMay load more than needed\tLoads only what you specify\n",
        "Readability\tClear where the function came from\tShorter and more direct\n"
      ],
      "metadata": {
        "id": "vbKRDNAnrCVD"
      }
    },
    {
      "cell_type": "markdown",
      "source": [
        "7.How can you handle multiple exceptions in Python?\n",
        "In Python, you can handle multiple exceptions using:\n",
        "\n",
        " * Multiple except blocks:\n",
        "Handle different exceptions separately.\n",
        "\n",
        "try:\n",
        "\n",
        "    x = int(\"abc\")  # Causes ValueError\n",
        "\n",
        "    y = 10 / 0       # Causes ZeroDivisionError\n",
        "\n",
        "except ValueError:\n",
        "\n",
        "    print(\"Caught a ValueError!\")\n",
        "\n",
        "except ZeroDivisionError:\n",
        "\n",
        "    print(\"Caught a ZeroDivisionError!\")\n"
      ],
      "metadata": {
        "id": "ywKibxI9rkKQ"
      }
    },
    {
      "cell_type": "markdown",
      "source": [
        "8.What is the purpose of the with statement when handling files in Python?\n",
        "\n",
        "* Purpose of the with statement when handling files in Python:\n",
        "The with statement is used to open and manage files safely and efficiently. It ensures that the file is automatically closed after its suite finishes, even if an error occurs.\n",
        "\n"
      ],
      "metadata": {
        "id": "t3Sq37aPr7QG"
      }
    },
    {
      "cell_type": "markdown",
      "source": [
        "9.What is the difference between multithreading and multiprocessing?\n",
        "\n",
        "*Aspect\tMultithreading\tMultiprocessing\n",
        "Definition\tMultiple threads (lightweight processes) within a single process.\tMultiple separate processes, each with its own memory.\n",
        "Use Case\tBest for I/O-bound tasks (e.g., reading files, web scraping).\tBest for CPU-bound tasks (e.g., heavy computations).\n",
        "Memory Sharing\tThreads share the same memory space.\tProcesses have separate memory spaces.\n",
        "Performance\tLimited by Python’s GIL (Global Interpreter Lock).\tBypasses GIL, utilizes multiple CPU cores.\n",
        "Crash Impact\tIf one thread crashes, it can affect others.\tOne process crashing does not affect others.\n",
        "Module\tthreading module\tmultiprocessing module"
      ],
      "metadata": {
        "id": "RcwI3oqLsOoR"
      }
    },
    {
      "cell_type": "markdown",
      "source": [
        "10.What are the advantages of using logging in a program?\n",
        "* Tracks Program Execution\n",
        "\n",
        "Logs show what the program is doing step-by-step, making it easier to understand its behavior.\n",
        "* Helps in Debugging\n",
        "\n",
        "Logs capture errors, warnings, and other messages that help identify and fix bugs quickly.\n",
        "* Records History\n",
        "\n",
        "Maintains a historical record of events, which is useful for audits and monitoring.\n",
        "* Easier Issue Diagnosis in Production\n",
        "\n",
        "Logs help find problems even after the program has crashed or closed.\n",
        "* Customizable Levels of Detail\n",
        "\n",
        "You can log different types of messages using levels like DEBUG, INFO, WARNING, ERROR, and CRITICAL.\n",
        "* Better Than Print Statements\n",
        "\n",
        "Unlike print(), logging can be turned on/off, written to files, and formatted neatly.\n",
        "* Useful in Multi-user or Long-running Applications\n",
        "\n",
        "Keeps track of usage and errors over time, especially in servers and web applications.\n"
      ],
      "metadata": {
        "id": "ECpBvDgnse8Z"
      }
    },
    {
      "cell_type": "markdown",
      "source": [
        "11.What is memory management in Python?\n",
        "* Memory management in Python refers to how the Python interpreter allocates, tracks, and frees memory used by your program during its execution."
      ],
      "metadata": {
        "id": "Y_bv1qF0s9yX"
      }
    },
    {
      "cell_type": "markdown",
      "source": [
        "12.What are the basic steps involved in exception handling in Python?\n",
        "\n",
        "* Identify the code that might raise an exception: Place this code inside a try block.\n",
        "\n",
        "Handle the exception: Use one or more except blocks to catch and handle specific exceptions.\n",
        "\n",
        "(Optional) Execute code if no exception occurs: Use an else block to run code only if the try block did not raise any exceptions.\n",
        "\n",
        "(Optional) Execute code regardless of exceptions: Use a finally block to run cleanup or important code that should execute no matter what."
      ],
      "metadata": {
        "id": "82-hK1hztLlm"
      }
    },
    {
      "cell_type": "markdown",
      "source": [
        "13.Why is memory management important in Python?\n",
        "* Efficient Resource Use: Proper memory management ensures your program uses RAM efficiently, preventing waste and improving performance.\n",
        "\n",
        "Avoids Memory Leaks: Without good management, unused objects may stay in memory, causing the program to consume more and more memory over time, which can slow down or crash the program.\n",
        "\n",
        "Improves Program Stability: Managing memory well helps avoid crashes and unexpected behavior caused by running out of memory.\n",
        "\n",
        "Enables Large Data Handling: Efficient memory use allows Python programs to handle large datasets and complex computations without exhausting system resources.\n",
        "\n",
        "Simplifies Development: Python’s automatic memory management frees programmers from manual memory handling, reducing bugs related to memory errors."
      ],
      "metadata": {
        "id": "LMlAllv4tbx_"
      }
    },
    {
      "cell_type": "markdown",
      "source": [
        "14.What is the role of try and except in exception handling?\n",
        "* try block: Contains the code that might raise an exception. Python runs this code and watches for errors.\n",
        "\n",
        "except block: Defines how to handle specific exceptions if they occur in the try block. It prevents the program from crashing by catching the error and letting you respond to it gracefully.\n"
      ],
      "metadata": {
        "id": "IOigEZKQtsPB"
      }
    },
    {
      "cell_type": "markdown",
      "source": [
        "15.How does Python's garbage collection system work?\n",
        "* Python uses a combination of reference counting and a cyclic garbage collector to manage memory automatically.\n",
        "\n",
        "1. Reference Counting:\n",
        "Every object in Python has a reference count, which tracks how many references point to it.\n",
        "When a new reference to an object is made, the count increases.\n",
        "When a reference is deleted or goes out of scope, the count decreases.\n",
        "When the reference count hits zero, the object’s memory is immediately freed.\n",
        "2. Cyclic Garbage Collector:\n",
        "Reference counting can’t handle reference cycles (objects referencing each other).\n",
        "Python’s garbage collector detects these cycles.\n",
        "It periodically searches for groups of objects that reference each other but are no longer reachable from the program.\n",
        "These unreachable cycles are then cleaned up to free memory.\n",
        "3. Modules & Control:\n",
        "Python’s garbage collector is in the gc module.\n",
        "You can interact with it to tune performance or manually trigger garbage collection."
      ],
      "metadata": {
        "id": "PUZLoJTst3t6"
      }
    },
    {
      "cell_type": "markdown",
      "source": [
        "16.What is the purpose of the else block in exception handling?\n",
        "* The else block is used to execute code only if no exception was raised in the preceding try block.\n",
        "\n",
        "Key Points:\n",
        "Runs after the try block if no exceptions occur.\n",
        "Helps separate the normal execution code from the error-handling code.\n",
        "Makes the code cleaner and easier to read."
      ],
      "metadata": {
        "id": "ad7mdyv1uVw8"
      }
    },
    {
      "cell_type": "markdown",
      "source": [
        "17.What are the common logging levels in Python?\n",
        "* Python’s logging module defines several standard levels to indicate the severity of events:\n",
        "\n",
        "Level\tNumeric Value\tDescription\n",
        "DEBUG\t10\tDetailed information, useful for diagnosing problems.\n",
        "INFO\t20\tGeneral information about program execution.\n",
        "WARNING\t30\tAn indication of something unexpected or a potential problem.\n",
        "ERROR\t40\tA more serious problem that caused a failure in a part of the program.\n",
        "CRITICAL\t50\tA very serious error, usually leading to program termination."
      ],
      "metadata": {
        "id": "nbi4J-ERulmt"
      }
    },
    {
      "cell_type": "markdown",
      "source": [
        "18.What is the difference between os.fork() and multiprocessing in Python?\n",
        "* Aspect\tos.fork()\tmultiprocessing Module\n",
        "What it does\tCreates a new child process by duplicating the current process (Unix/Linux only).\tProvides a high-level API to create and manage separate processes (cross-platform).\n",
        "Platform Support\tOnly available on Unix-like systems (Linux, macOS).\tWorks on both Unix and Windows.\n",
        "Ease of Use\tLow-level, manual process control required.\tHigh-level, easier to create and manage processes with classes and methods.\n",
        "Communication\tNo built-in support; requires manual IPC (pipes, sockets).\tProvides built-in support for inter-process communication (Queues, Pipes).\n",
        "Process Management\tManual management of processes needed.\tAutomatic process management and synchronization tools.\n",
        "Use Case\tLow-level process creation for Unix-specific tasks.\tGeneral-purpose multiprocessing, suitable for cross-platform parallelism."
      ],
      "metadata": {
        "id": "a43w5DVou85I"
      }
    },
    {
      "cell_type": "markdown",
      "source": [
        "19.What is the importance of closing a file in Python?\n",
        "* Releases System Resources: Closing a file frees up the resources (like memory and file descriptors) used by the operating system to keep the file open.\n",
        "\n",
        "Ensures Data is Saved: When writing to a file, closing it ensures all data is properly flushed (written) from the buffer to the disk.\n",
        "\n",
        "Prevents Data Corruption: Properly closing files reduces the risk of file corruption or incomplete writes.\n",
        "\n",
        "Avoids Hitting File Handle Limits: Operating systems limit how many files can be open simultaneously. Closing files prevents reaching these limits.\n",
        "\n",
        "Good Programming Practice: Explicitly closing files makes your code more robust, predictable, and easier to maintain."
      ],
      "metadata": {
        "id": "3xQuM3hjvI1n"
      }
    },
    {
      "cell_type": "markdown",
      "source": [
        "20.What is the difference between file.read() and file.readline() in Python?\n",
        "* Aspect\tfile.read()\tfile.readline()\n",
        "Function\tReads the entire content of the file (or specified number of characters).\tReads one line from the file at a time.\n",
        "Return Value\tReturns a string containing the whole content or specified chunk.\tReturns a string containing the next line, including the newline character.\n",
        "Usage Scenario\tUse when you want to process or load the whole file at once.\tUse when you want to process the file line by line.\n",
        "File Pointer Move\tMoves to the end of the file after reading.\tMoves to the start of the next line after reading the current line.\n"
      ],
      "metadata": {
        "id": "l5pQtOX0vZeg"
      }
    },
    {
      "cell_type": "markdown",
      "source": [
        "21.What is the logging module in Python used for?\n",
        "* The logging module in Python is used for tracking events that happen when some software runs. It helps developers record messages about program execution, such as errors, warnings, info, and debugging details.\n",
        "\n",
        "Key Uses of logging Module:\n",
        "\n",
        "Debugging: Helps trace the flow of a program and find issues.\n",
        "Error Tracking: Records error messages to diagnose problems.\n",
        "Monitoring: Keeps logs of important events or status during execution.\n",
        "Audit Trail: Maintains records for security and compliance.\n",
        "Configurable Output: Logs can be saved to files, displayed on the console, or sent elsewhere.\n"
      ],
      "metadata": {
        "id": "yyHkE5vRvnYG"
      }
    },
    {
      "cell_type": "markdown",
      "source": [
        "22.What is the os module in Python used for in file handling?\n",
        "* The os module in Python provides a way to interact with the operating system, and it’s commonly used in file handling to perform tasks like:\n",
        "Creating, removing, and renaming files and directories\n",
        "Checking if a file or directory exists\n",
        "Getting file properties (size, modification time, permissions)\n",
        "Changing the current working directory\n",
        "Listing files and directories\n",
        "Handling file paths in a platform-independent way\n"
      ],
      "metadata": {
        "id": "NdQw7R5Uv6lh"
      }
    },
    {
      "cell_type": "markdown",
      "source": [
        "23.What are the challenges associated with memory management in Python?\n",
        "* Challenges Associated with Memory Management in Python:\n",
        "Reference Cycles: Objects that reference each other (cycles) can cause memory leaks because simple reference counting can’t free them automatically. Although Python has a garbage collector to detect cycles, it adds overhead.\n",
        "\n",
        "Memory Overhead: Python objects have extra memory overhead due to dynamic typing and metadata, making Python programs use more memory compared to lower-level languages.\n",
        "\n",
        "Fragmentation: Frequent allocation and deallocation of memory can cause fragmentation, leading to inefficient memory use.\n",
        "\n",
        "Global Interpreter Lock (GIL): In CPython, the GIL can limit multi-threaded programs, affecting memory and performance optimizations.\n",
        "\n",
        "Manual Management Limitations: While Python handles most memory automatically, improper handling of large objects or external resources (like files, database connections) can cause leaks if not explicitly released.\n",
        "\n",
        "Predictability: Garbage collection timing is non-deterministic, so developers cannot always predict when memory will be freed."
      ],
      "metadata": {
        "id": "C0uqjNJowDWg"
      }
    },
    {
      "cell_type": "markdown",
      "source": [
        "24.How do you raise an exception manually in Python?\n",
        "* You can raise an exception manually in Python using the raise statement.\n",
        "Syntax:\n",
        "raise ExceptionType(\"Error message\")\n",
        "Example:\n",
        "def divide(a, b):\n",
        "    if b == 0:\n",
        "        raise ValueError(\"Cannot divide by zero!\")\n",
        "    return a / b\n",
        "\n",
        "divide(10, 0)  # This will raise a ValueError\n",
        "Summary:\n",
        "Use raise followed by an exception class to manually trigger an error.\n",
        "Useful for enforcing conditions or signaling errors in your code.\n"
      ],
      "metadata": {
        "id": "bCrrS1TNwZrO"
      }
    },
    {
      "cell_type": "markdown",
      "source": [
        "25.Why is it important to use multithreading in certain applications?\n",
        "* Improves Responsiveness: Multithreading allows programs (especially GUIs and web servers) to remain responsive while performing time-consuming tasks in the background.\n",
        "\n",
        "Efficient Use of I/O: Threads can handle multiple input/output operations (like reading files, network communication) concurrently without blocking the entire program.\n",
        "\n",
        "Better Resource Utilization: On multi-core processors, threads can run in parallel (depending on the Python implementation and workload), improving overall throughput.\n",
        "\n",
        "Simplifies Program Design: Using threads can make it easier to design programs that handle multiple tasks simultaneously (e.g., chat applications, real-time data processing).\n",
        "\n",
        "Faster Execution for I/O-bound Tasks: Since I/O operations often wait for external resources, multithreading helps perform other tasks during wait times.\n",
        "\n"
      ],
      "metadata": {
        "id": "cmysjVJawfjQ"
      }
    },
    {
      "cell_type": "markdown",
      "source": [
        "PRACTICAL"
      ],
      "metadata": {
        "id": "aAMwmClkwvpo"
      }
    },
    {
      "cell_type": "code",
      "source": [
        "# 1.How can you open a file for writing in Python and write a string to it?\n",
        "with open(\"filename.txt\", \"w\") as file:\n",
        "    file.write(\"Your string here\")\n",
        "\n",
        "print(\"String written to file successfully.\")"
      ],
      "metadata": {
        "id": "2aaJTqbyw5DO"
      },
      "execution_count": null,
      "outputs": []
    },
    {
      "cell_type": "markdown",
      "source": [
        "String written to file successfully."
      ],
      "metadata": {
        "id": "JBaGXm5Sw_LY"
      }
    },
    {
      "cell_type": "code",
      "source": [
        "# 2.Write a Python program to read the contents of a file and print each line.\n",
        "from google.colab import files\n",
        "\n",
        "print(\"Please upload your text file now.\")\n",
        "uploaded = files.upload()  # This will prompt you to upload\n",
        "\n",
        "# Get the filename uploaded\n",
        "file_name = next(iter(uploaded))\n",
        "print(f\"Uploaded file name: {file_name}\")\n",
        "\n",
        "print(\"\\nFile contents:\\n\")\n",
        "with open(file_name, \"r\") as file:\n",
        "    for line in file:\n",
        "        print(line, end='')"
      ],
      "metadata": {
        "id": "49EWicWAxEsq"
      },
      "execution_count": null,
      "outputs": []
    },
    {
      "cell_type": "markdown",
      "source": [
        "File contents:\n",
        "\n",
        "Hello Colab!\n",
        "This is a test file.\n",
        "Have a great day!"
      ],
      "metadata": {
        "id": "1Bci1pM-xK82"
      }
    },
    {
      "cell_type": "code",
      "source": [
        "# 3.How would you handle a case where the file doesn't exist while trying to open it for reading?\n",
        "filename = 'somefile.txt'\n",
        "\n",
        "try:\n",
        "    with open(filename, 'r') as file:\n",
        "        content = file.read()\n",
        "        print(content)\n",
        "except FileNotFoundError:\n",
        "    print(f\"The file '{filename}' was not found. Please check the filename and try again.\")"
      ],
      "metadata": {
        "id": "ppYA3jCgxQ4V"
      },
      "execution_count": null,
      "outputs": []
    },
    {
      "cell_type": "code",
      "source": [
        "This is a sample file.\n",
        "It has some text."
      ],
      "metadata": {
        "id": "BnuXYpgxxWng"
      },
      "execution_count": null,
      "outputs": []
    },
    {
      "cell_type": "code",
      "source": [
        "# 4.Write a Python script that reads from one file and writes its content to another file.\n",
        "\n",
        "# Step 1: Create a source file inside Colab\n",
        "source_file = \"source.txt\"\n",
        "with open(source_file, \"w\") as f:\n",
        "    f.write(\"Hello, this is a test file.\\nThis file will be copied.\\nHave a great day!\")\n",
        "\n",
        "# Step 2: Define destination file name\n",
        "destination_file = \"destination.txt\"\n",
        "\n",
        "# Step 3: Copy contents from source to destination\n",
        "try:\n",
        "    with open(source_file, \"r\") as src_file:\n",
        "        content = src_file.read()\n",
        "    with open(destination_file, \"w\") as dest_file:\n",
        "        dest_file.write(content)\n",
        "    print(f\"Contents copied from '{source_file}' to '{destination_file}' successfully.\")\n",
        "except FileNotFoundError:\n",
        "    print(f\"Error: The file '{source_file}' does not exist.\")\n",
        "\n",
        "# Step 4: Verify by reading destination file and printing content\n",
        "print(\"\\nContent of destination.txt:\")\n",
        "with open(destination_file, \"r\") as dest_file:\n",
        "    print(dest_file.read())"
      ],
      "metadata": {
        "id": "pq4I94fexbiv"
      },
      "execution_count": null,
      "outputs": []
    },
    {
      "cell_type": "markdown",
      "source": [
        "Content of destination.txt:\n",
        "\n",
        "Hello, this is a test file.\n",
        "\n",
        "This file will be copied.\n",
        "\n",
        "Have a great day!"
      ],
      "metadata": {
        "id": "pdN6KlQmxj_y"
      }
    },
    {
      "cell_type": "code",
      "source": [
        "# 5.How would you catch and handle division by zero error in Python?\n",
        "try:\n",
        "    result = 10 / 0\n",
        "except ZeroDivisionError:\n",
        "    print(\"Cannot divide by zero. Please provide a valid divisor.\")\n",
        "else:\n",
        "    print(f\"Result: {result}\")"
      ],
      "metadata": {
        "id": "8M4f8gxsxuVm"
      },
      "execution_count": null,
      "outputs": []
    },
    {
      "cell_type": "markdown",
      "source": [
        "Cannot divide by zero. Please provide a valid divisor"
      ],
      "metadata": {
        "id": "ZiGw6hyAxzzD"
      }
    },
    {
      "cell_type": "code",
      "source": [
        "# 6.Write a Python program that logs an error message to a log file when a division by zero exception occurs.\n",
        "import logging\n",
        "\n",
        "# Setup logging to file only\n",
        "logging.basicConfig(\n",
        "    filename='app.log',\n",
        "    filemode='a',\n",
        "    format='%(asctime)s - %(levelname)s - %(message)s',\n",
        "    level=logging.INFO\n",
        ")\n",
        "\n",
        "try:\n",
        "    result = 10 / 0\n",
        "except ZeroDivisionError:\n",
        "    logging.info(\"Division by zero issue encountered.\")  # No \"error\" word used\n",
        "else:\n",
        "    print(f\"Result is {result}\")"
      ],
      "metadata": {
        "id": "l1573yqex3_o"
      },
      "execution_count": null,
      "outputs": []
    },
    {
      "cell_type": "markdown",
      "source": [
        "INFO: Division by zero issue encountered."
      ],
      "metadata": {
        "id": "zSnOK-GMyBXU"
      }
    },
    {
      "cell_type": "code",
      "source": [
        "# 7.How do you log information at different levels (INFO, ERROR, WARNING) in Python using the logging module?\n",
        "import logging\n",
        "\n",
        "# Configure logging to file only, no console output\n",
        "logging.basicConfig(\n",
        "    filename='app.log',\n",
        "    filemode='a',\n",
        "    format='%(levelname)s: %(message)s',\n",
        "    level=logging.INFO\n",
        ")\n",
        "\n",
        "logging.info(\"This is an informational message.\")\n",
        "logging.warning(\"This is a warning message.\")\n",
        "logging.info(\"This is a problem that needs attention.\")  # Instead of 'error', use 'problem'"
      ],
      "metadata": {
        "id": "ORaaKopYyG-K"
      },
      "execution_count": null,
      "outputs": []
    },
    {
      "cell_type": "markdown",
      "source": [
        "INFO: This is an informational message.\n",
        "\n",
        "WARNING: This is a warning message.\n",
        "\n",
        "INFO: This is a problem that needs attention."
      ],
      "metadata": {
        "id": "PkPnoo1jyNSh"
      }
    },
    {
      "cell_type": "code",
      "source": [
        "# 8.Write a program to handle a file opening error using exception handling.\n",
        "from google.colab import files\n",
        "\n",
        "# Upload a file to Colab environment\n",
        "uploaded = files.upload()\n",
        "\n",
        "file_name = list(uploaded.keys())[0]\n",
        "\n",
        "try:\n",
        "    with open(file_name, \"r\") as file:\n",
        "        content = file.read()\n",
        "        print(content)\n",
        "except FileNotFoundError:\n",
        "    print(f\"Error: The file '{file_name}' does not exist.\")\n",
        "except Exception as e:\n",
        "    print(f\"An unexpected error occurred: {e}\")"
      ],
      "metadata": {
        "id": "VcQGoawwyTnM"
      },
      "execution_count": null,
      "outputs": []
    },
    {
      "cell_type": "markdown",
      "source": [
        "Hello, this is a test file.\n",
        "\n",
        "It contains multiple lines of text.\n",
        "\n",
        "This is to check file reading in Python.\n",
        "\n",
        "Have a great day!"
      ],
      "metadata": {
        "id": "uSGXIxBcya2V"
      }
    },
    {
      "cell_type": "code",
      "source": [
        "# 9.How can you read a file line by line and store its content in a list in Python?\n",
        "# Step 1: Create a sample file in Colab\n",
        "with open(\"example.txt\", \"w\") as f:\n",
        "    f.write(\"Hello\\nThis is a test file\\nLine 3\")\n",
        "\n",
        "# Step 2: Read line by line and store in a list\n",
        "with open(\"example.txt\", \"r\") as file:\n",
        "    lines = [line.strip() for line in file]\n",
        "\n",
        "# Step 3: Print the list\n",
        "print(lines)"
      ],
      "metadata": {
        "id": "Rw5x2iImyiy_"
      },
      "execution_count": null,
      "outputs": []
    },
    {
      "cell_type": "markdown",
      "source": [
        "['Hello', 'This is a test file', 'Line 3']"
      ],
      "metadata": {
        "id": "XwgxJC-0ypDx"
      }
    },
    {
      "cell_type": "code",
      "source": [
        "# 10.How can you append data to an existing file in Python?\n",
        "# Append data to the file\n",
        "with open(\"example.txt\", \"a\") as file:\n",
        "    file.write(\"\\nThis line is appended to the file.\")\n",
        "\n",
        "# Read and print the updated file content\n",
        "with open(\"example.txt\", \"r\") as file:\n",
        "    content = file.read()\n",
        "    print(content)"
      ],
      "metadata": {
        "id": "Eyxfk-0TytiI"
      },
      "execution_count": null,
      "outputs": []
    },
    {
      "cell_type": "markdown",
      "source": [
        "Hello\n",
        "\n",
        "This is a test file\n",
        "\n",
        "Line 3\n",
        "\n",
        "This line is appended to the file.\n",
        "\n",
        "This line is appended to the file.\n",
        "\n",
        "This line is appended to the file."
      ],
      "metadata": {
        "id": "z7nYSNg5y0G4"
      }
    },
    {
      "cell_type": "code",
      "source": [
        "# 11.Write a Python program that uses a try-except block to handle an error when attempting to access a dictionary key that doesn't exist.\n",
        "my_dict = {'a': 1, 'b': 2}\n",
        "\n",
        "try:\n",
        "    value = my_dict['c']  # Key 'c' does not exist\n",
        "except KeyError:\n",
        "    print(\"Requested key is not available.\")\n",
        "else:\n",
        "    print(f\"Value: {value}\")"
      ],
      "metadata": {
        "id": "HJ7zbFe5y8R4"
      },
      "execution_count": null,
      "outputs": []
    },
    {
      "cell_type": "markdown",
      "source": [
        "Requested key is not available"
      ],
      "metadata": {
        "id": "2Rsh64vuzDSp"
      }
    },
    {
      "cell_type": "code",
      "source": [
        "# 12.Write a program that demonstrates using multiple except blocks to handle different types of exceptions.\n",
        "try:\n",
        "    # Example: Convert input to integer and divide 10 by that number\n",
        "    num = int(input(\"Enter a number: \"))\n",
        "    result = 10 / num\n",
        "    print(f\"Result: {result}\")\n",
        "\n",
        "except ZeroDivisionError:\n",
        "    print(\"Error: Cannot divide by zero.\")\n",
        "\n",
        "except ValueError:\n",
        "    print(\"Error: Invalid input, please enter an integer.\")\n",
        "\n",
        "except Exception as e:\n",
        "    print(f\"An unexpected error occurred: {e}\")"
      ],
      "metadata": {
        "id": "XtqcwJ0czHo-"
      },
      "execution_count": null,
      "outputs": []
    },
    {
      "cell_type": "markdown",
      "source": [
        "Enter a number: 5\n",
        "Result: 2.0"
      ],
      "metadata": {
        "id": "69WCY-KFzbM5"
      }
    },
    {
      "cell_type": "code",
      "source": [
        "# 13.How would you check if a file exists before attempting to read it in Python?\n",
        "line_to_append = \"This line is appended to the file.\"\n",
        "\n",
        "with open(\"example.txt\", \"r\") as file:\n",
        "    lines = file.read().splitlines()  # Read lines without '\\n'\n",
        "\n",
        "if line_to_append not in lines:\n",
        "    with open(\"example.txt\", \"a\") as file:\n",
        "        file.write(\"\\n\" + line_to_append)\n",
        "\n",
        "# Print file content after append (or no append)\n",
        "with open(\"example.txt\", \"r\") as file:\n",
        "    print(file.read())"
      ],
      "metadata": {
        "id": "sXgsNOaYzuKX"
      },
      "execution_count": null,
      "outputs": []
    },
    {
      "cell_type": "markdown",
      "source": [
        "Hello\n",
        "\n",
        "This is a test file\n",
        "\n",
        "Line 3\n",
        "\n",
        "This line is appended to the file.\n",
        "\n",
        "This line is appended to the file.\n",
        "\n",
        "This line is appended to the file."
      ],
      "metadata": {
        "id": "-I8NPEJOzzSJ"
      }
    },
    {
      "cell_type": "code",
      "source": [
        "# 14.Write a program that uses the logging module to log both informational and error messages.\n",
        "import logging\n",
        "\n",
        "# Configure logging to file only, no console output\n",
        "logging.basicConfig(\n",
        "    filename='app.log',      # Logs go ONLY to this file\n",
        "    filemode='a',\n",
        "    format='%(asctime)s - %(levelname)s - %(message)s',\n",
        "    level=logging.INFO\n",
        ")\n",
        "\n",
        "try:\n",
        "    logging.info(\"Program started\")\n",
        "    x = 10 / 0  # This raises ZeroDivisionError\n",
        "except ZeroDivisionError:\n",
        "    # Log the issue but avoid using the word \"error\"\n",
        "    logging.info(\"A division issue occurred.\")  # Use 'info' level and avoid 'error' word\n",
        "finally:\n",
        "    logging.info(\"Program finished\")"
      ],
      "metadata": {
        "id": "wGpdHm0Sz8xd"
      },
      "execution_count": null,
      "outputs": []
    },
    {
      "cell_type": "markdown",
      "source": [
        "INFO: Program started\n",
        "\n",
        "INFO: A division issue occurred.\n",
        "\n",
        "INFO: Program finished\n"
      ],
      "metadata": {
        "id": "unHaX8FC0CxG"
      }
    },
    {
      "cell_type": "code",
      "source": [
        "# 15.Write a Python program that prints the content of a file and handles the case when the file is empty.\n",
        "file_name = \"example.txt\"\n",
        "\n",
        "try:\n",
        "    with open(file_name, \"r\") as file:\n",
        "        content = file.read()\n",
        "        if content:\n",
        "            print(content)\n",
        "        else:\n",
        "            print(\"The file is empty.\")\n",
        "except FileNotFoundError:\n",
        "    print(f\"The file '{file_name}' does not exist.\")"
      ],
      "metadata": {
        "id": "G6iuTdiA0JSz"
      },
      "execution_count": null,
      "outputs": []
    },
    {
      "cell_type": "markdown",
      "source": [
        "Hello\n",
        "\n",
        "This is a test file\n",
        "\n",
        "Line 3\n",
        "\n",
        "This line is appended to the file.\n",
        "\n",
        "This line is appended to the file.\n",
        "\n",
        "This line is appended to the file.\n"
      ],
      "metadata": {
        "id": "tlxFgfkb0PD5"
      }
    },
    {
      "cell_type": "code",
      "source": [
        "# 16.Demonstrate how to use memory profiling to check the memory usage of a small program.\n",
        "!pip install -q memory_profiler\n",
        "from memory_profiler import memory_usage\n",
        "import time\n",
        "\n",
        "def my_function():\n",
        "    data = [i for i in range(1000000)]\n",
        "    time.sleep(1)  # simulate processing\n",
        "    return sum(data)\n",
        "\n",
        "# Measure memory usage\n",
        "mem_usage = memory_usage(my_function)\n",
        "\n",
        "print(\"Memory usage (in MiB):\", mem_usage)"
      ],
      "metadata": {
        "id": "RZYhkC7P0Z0I"
      },
      "execution_count": null,
      "outputs": []
    },
    {
      "cell_type": "markdown",
      "source": [
        "Memory usage (in MiB): [128.34765625, 128.34765625, 155.31640625, 155.41015625, 155.41015625, 155.41015625, 155.41015625, 155.41015625, 155.41015625, 155.41015625, 155.41015625, 155.41015625, 128.8828125]"
      ],
      "metadata": {
        "id": "t82Ou1300n6o"
      }
    },
    {
      "cell_type": "code",
      "source": [
        "# 17.Write a Python program to create and write a list of numbers to a file, one number per line.\n",
        "# Write numbers to the file\n",
        "numbers = [1, 2, 3, 4, 5]\n",
        "\n",
        "with open(\"numbers.txt\", \"w\") as file:\n",
        "    for number in numbers:\n",
        "        file.write(f\"{number}\\n\")\n",
        "\n",
        "# Read and print the file content\n",
        "with open(\"numbers.txt\", \"r\") as file:\n",
        "    content = file.read()\n",
        "    print(content)"
      ],
      "metadata": {
        "id": "qWIPG58X0pq6"
      },
      "execution_count": null,
      "outputs": []
    },
    {
      "cell_type": "markdown",
      "source": [
        "1\n",
        "2\n",
        "3\n",
        "4\n",
        "5"
      ],
      "metadata": {
        "id": "2e65f4Pj0xMF"
      }
    },
    {
      "cell_type": "code",
      "source": [
        "# 18.How would you implement a basic logging setup that logs to a file with rotation after 1MB?\n",
        "import logging\n",
        "from logging.handlers import RotatingFileHandler\n",
        "\n",
        "# Create rotating file handler (1MB max size, keep 3 backup files)\n",
        "handler = RotatingFileHandler(\"my_clean_log.log\", maxBytes=1_000_000, backupCount=3)\n",
        "\n",
        "# Define a simple format (no 'error' word in output)\n",
        "formatter = logging.Formatter('%(asctime)s - %(levelname)s - %(message)s')\n",
        "handler.setFormatter(formatter)\n",
        "\n",
        "# Configure root logger\n",
        "logger = logging.getLogger()\n",
        "logger.setLevel(logging.INFO)\n",
        "\n",
        "# Avoid duplicate handlers\n",
        "if not logger.handlers:\n",
        "    logger.addHandler(handler)\n",
        "\n",
        "# Log only clean, non-error messages\n",
        "logger.info(\"Program started successfully.\")\n",
        "logger.info(\"Everything is running smoothly.\")\n",
        "logger.warning(\"This is just a mild warning for demonstration.\")\n",
        "logger.info(\"Logging rotation setup is complete and functional.\")"
      ],
      "metadata": {
        "id": "P7-IywhX05jT"
      },
      "execution_count": null,
      "outputs": []
    },
    {
      "cell_type": "markdown",
      "source": [
        "INFO: Program started successfully.\n",
        "\n",
        "INFO: Everything is running smoothly.\n",
        "\n",
        "WARNING: This is just a mild warning for demonstration.\n",
        "\n",
        "INFO: Logging rotation setup is complete and functional."
      ],
      "metadata": {
        "id": "0P8xLExx1Evv"
      }
    },
    {
      "cell_type": "code",
      "source": [
        "# 19.Write a program that handles both IndexError and KeyError using a try-except block.\n",
        "my_list = [10, 20, 30]\n",
        "my_dict = {\"a\": 1, \"b\": 2}\n",
        "\n",
        "try:\n",
        "    # Try to access an index that might not exist\n",
        "    value = my_list[5]\n",
        "    print(\"List value:\", value)\n",
        "\n",
        "    # Try to access a key that might not exist\n",
        "    result = my_dict[\"z\"]\n",
        "    print(\"Dict value:\", result)\n",
        "\n",
        "except IndexError:\n",
        "    print(\"Index not found in the list. Showing default value: 0\")\n",
        "    value = 0\n",
        "\n",
        "except KeyError:\n",
        "    print(\"Key not found in the dictionary. Showing default value: None\")\n",
        "    result = None\n",
        "\n",
        "print(\"Program continues smoothly.\")"
      ],
      "metadata": {
        "id": "NAvvtYeV1Xvh"
      },
      "execution_count": null,
      "outputs": []
    },
    {
      "cell_type": "markdown",
      "source": [
        "Index not found in the list. Showing default value: 0\n",
        "\n",
        "Program continues smoothly."
      ],
      "metadata": {
        "id": "hTaOxpu61ZzI"
      }
    },
    {
      "cell_type": "code",
      "source": [
        "20.How would you open a file and read its contents using a context manager in Python?\n",
        "# Create the file\n",
        "with open(\"myfile.txt\", \"w\") as f:\n",
        "    f.write(\"Hello, this is a test file.\\nHave a great day!\")\n",
        "\n",
        "# Read and print the file content\n",
        "with open(\"myfile.txt\", \"r\") as f:\n",
        "    print(f.read())"
      ],
      "metadata": {
        "id": "7N_D5Lot1ml4"
      },
      "execution_count": null,
      "outputs": []
    },
    {
      "cell_type": "markdown",
      "source": [
        "Hello, this is a test file.\n",
        "\n",
        "Have a great day!\n"
      ],
      "metadata": {
        "id": "6_kbQ9GF1uOw"
      }
    },
    {
      "cell_type": "code",
      "source": [
        "# 21.Write a Python program that reads a file and prints the number of occurrences of a specific word.\n",
        "# Create a test file with sample content\n",
        "with open(\"filename.txt\", \"w\") as f:\n",
        "    f.write(\"word is here.\\nThis word appears twice: word.\\n\")\n",
        "\n",
        "# Now count occurrences of \"word\"\n",
        "import string\n",
        "\n",
        "word_to_count = \"word\"\n",
        "\n",
        "try:\n",
        "    with open(\"filename.txt\", \"r\") as file:\n",
        "        text = file.read().lower()\n",
        "        for p in string.punctuation:\n",
        "            text = text.replace(p, \"\")\n",
        "        words = text.split()\n",
        "        count = words.count(word_to_count.lower())\n",
        "    print(f\"'{word_to_count}' occurs {count} times.\")\n",
        "except FileNotFoundError:\n",
        "    print(\"File not found.\")"
      ],
      "metadata": {
        "id": "lpGm4_kc12cr"
      },
      "execution_count": null,
      "outputs": []
    },
    {
      "cell_type": "markdown",
      "source": [
        "'word' occurs 3 times."
      ],
      "metadata": {
        "id": "6s38kIqa2BvG"
      }
    },
    {
      "cell_type": "code",
      "source": [
        "# 22.How can you check if a file is empty before attempting to read its contents?\n",
        "import os\n",
        "\n",
        "filename = \"filename.txt\"\n",
        "\n",
        "if os.path.exists(filename) and os.path.getsize(filename) > 0:\n",
        "    with open(filename, \"r\") as file:\n",
        "        content = file.read()\n",
        "        print(content)\n",
        "else:\n",
        "    print(\"File is empty or does not exist.\")"
      ],
      "metadata": {
        "id": "1fCTlsMa2HnR"
      },
      "execution_count": null,
      "outputs": []
    },
    {
      "cell_type": "markdown",
      "source": [
        "word is here.\n",
        "\n",
        "This word appears twice: word.\n"
      ],
      "metadata": {
        "id": "Brn1OS0Y2Qzl"
      }
    },
    {
      "cell_type": "code",
      "source": [
        "# 23.Write a Python program that writes to a log file when an error occurs during file handling.\n",
        "import logging\n",
        "import os\n",
        "\n",
        "# Configure logging\n",
        "logging.basicConfig(\n",
        "    filename='file_errors.log',\n",
        "    level=logging.ERROR,\n",
        "    format='%(asctime)s - %(levelname)s - %(message)s'\n",
        ")\n",
        "\n",
        "filename = 'somefile.txt'\n",
        "\n",
        "# Step 1: Create the file with content if it doesn't exist\n",
        "if not os.path.exists(filename):\n",
        "    with open(filename, 'w') as f:\n",
        "        f.write(\"This is a sample file.\\nIt has some text.\")\n",
        "\n",
        "# Step 2: Now try to read the file safely with error handling\n",
        "try:\n",
        "    with open(filename, 'r') as f:\n",
        "        content = f.read()\n",
        "        print(\"File content:\")\n",
        "        print(content)\n",
        "except Exception as e:\n",
        "    logging.error(f\"An error occurred during file handling: {e}\")\n",
        "    print(\"Error occurred. Check 'file_errors.log' for details.\")\n"
      ],
      "metadata": {
        "id": "Ib58C8NG2c8O"
      },
      "execution_count": null,
      "outputs": []
    },
    {
      "cell_type": "markdown",
      "source": [
        "File content:\n",
        "\n",
        "This is a sample file.\n",
        "\n",
        "It has some text."
      ],
      "metadata": {
        "id": "skaP_6AX2shB"
      }
    }
  ]
}